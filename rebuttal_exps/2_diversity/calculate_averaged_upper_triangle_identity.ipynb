{
 "cells": [
  {
   "cell_type": "code",
   "execution_count": 2,
   "metadata": {},
   "outputs": [
    {
     "name": "stdout",
     "output_type": "stream",
     "text": [
      "['GGNTITGSGTSGLDV', 'GGNTITGSGTSGLDV', 'GGNTITGSGTSGLDV', 'GGNTITGSGTSGLDV', 'GGNTITGSGTSGLDV', 'GGNTITGSGTSGLDV', 'GGNTITGSGTSGLDV', 'GGNTITGSGTSGLDV', 'GGNTITGSGTSGLDV', 'GGNTITGSGTSGLDV']\n",
      "Average pairwise sequence identity (upper triangle): 1.0000\n"
     ]
    }
   ],
   "source": [
    "from Bio import PDB\n",
    "from Bio.SeqUtils import seq1\n",
    "import numpy as np\n",
    "import os\n",
    "\n",
    "def extract_sequence(pdb_file, chain_id, start, end):\n",
    "    parser = PDB.PDBParser(QUIET=True)\n",
    "    structure = parser.get_structure('X', pdb_file)\n",
    "    chain = structure[0][chain_id]\n",
    "    sequence = \"\"\n",
    "    for residue in chain:\n",
    "        res_id = residue.get_id()[1]\n",
    "        if start <= res_id <= end:\n",
    "            sequence += seq1(residue.get_resname())\n",
    "    return sequence\n",
    "\n",
    "def sequence_identity(seq1, seq2):\n",
    "    length = min(len(seq1), len(seq2))\n",
    "    matches = sum(a == b for a, b in zip(seq1[:length], seq2[:length]))\n",
    "    return matches / length\n",
    "\n",
    "def pairwise_identity_matrix(folder, chain_id, start, end):\n",
    "    pdb_files = [os.path.join(folder, f) for f in os.listdir(folder) if f.endswith('.pdb') and not f.startswith('REF') and not f.endswith('_patch.pdb')]\n",
    "    num_files = len(pdb_files)\n",
    "    identity_matrix = np.zeros((num_files, num_files))\n",
    "\n",
    "    sequences = [extract_sequence(pdb_file, chain_id, start, end) for pdb_file in pdb_files]\n",
    "\n",
    "    for i in range(num_files):\n",
    "        for j in range(i+1, num_files):\n",
    "            identity_matrix[i, j] = sequence_identity(sequences[i], sequences[j])\n",
    "    print(sequences)\n",
    "    upper_triangle_mean = np.mean(identity_matrix[np.triu_indices(num_files, k=1)])\n",
    "    return upper_triangle_mean\n",
    "\n",
    "\n",
    "# Example usage\n",
    "folder = '/hanchenchen/ab_opt/AbDesign/test_results_20240725/codesign_single/0-5xku_C_B_A/H_CDR3'\n",
    "chain_id = 'C'\n",
    "start = 95\n",
    "end = 102\n",
    "\n",
    "average_identity = pairwise_identity_matrix(folder, chain_id, start, end)\n",
    "print(f'Average pairwise sequence identity (upper triangle): {average_identity:.4f}')\n",
    "\n"
   ]
  },
  {
   "cell_type": "code",
   "execution_count": 5,
   "metadata": {},
   "outputs": [
    {
     "name": "stderr",
     "output_type": "stream",
     "text": [
      "  5%|▌         | 1/19 [00:00<00:08,  2.03it/s]"
     ]
    },
    {
     "name": "stdout",
     "output_type": "stream",
     "text": [
      "['SGYTYDLAMDY', 'SGYTYDLAMDY', 'SGYTYDLAMDY', 'SGYTYDLAMDY', 'SGYTYDLAMDY', 'SGYTYDLAMDY', 'SGYTYDLAMDY', 'SGYTYDLAMDY', 'SGYTYDLAMDY', 'SGYTYDLAMDY']\n"
     ]
    },
    {
     "name": "stderr",
     "output_type": "stream",
     "text": [
      " 11%|█         | 2/19 [00:01<00:15,  1.09it/s]"
     ]
    },
    {
     "name": "stdout",
     "output_type": "stream",
     "text": [
      "['EGTGGYTGAAMDY', 'EGTGGYTGAAMDY', 'EGTGGYTGAAMDY', 'EGTGGYTGAAMDY', 'EGTGGYTGAAMDY', 'EGTGGYTGAAMDY', 'EGTGGYTGAAMDY', 'EGTGGYTGAAMDY', 'EGTGGYTGAAMDY', 'EGTGGYTGAAMDY']\n"
     ]
    },
    {
     "name": "stderr",
     "output_type": "stream",
     "text": [
      " 16%|█▌        | 3/19 [00:01<00:09,  1.60it/s]"
     ]
    },
    {
     "name": "stdout",
     "output_type": "stream",
     "text": [
      "['GPLEYTGAGAYYYNWFDI', 'GPLEYTGAGAYYYNWFDI', 'GPLEYTGAGAYYYNWFDI', 'GPLEYTGAGAYYYNWFDI', 'GPLEYTGAGAYYYNWFDI', 'GPLEYTGAGAYYYNWFDI', 'GPLEYTGAGAYYYNWFDI', 'GPLEYTGAGAYYYNWFDI', 'GPLEYTGAGAYYYNWFDI', 'GPLEYTGAGAYYYNWFDI']\n"
     ]
    },
    {
     "name": "stderr",
     "output_type": "stream",
     "text": [
      " 21%|██        | 4/19 [00:02<00:07,  1.97it/s]"
     ]
    },
    {
     "name": "stdout",
     "output_type": "stream",
     "text": [
      "['DIGWRFDY', 'DIGWRFDY', 'DIGWRFDY', 'DIGWRFDY', 'DIGWRFDY', 'DIGWRFDY', 'DIGWRFDY', 'DIGWRFDY', 'DIGWRFDY', 'DIGWRFDY']\n"
     ]
    },
    {
     "name": "stderr",
     "output_type": "stream",
     "text": [
      " 26%|██▋       | 5/19 [00:02<00:06,  2.11it/s]"
     ]
    },
    {
     "name": "stdout",
     "output_type": "stream",
     "text": [
      "['AELGDGSSVYYYGLDV', 'AELGDGSSVYYYGLDV', 'AELGDGSSVYYYGLDV', 'AELGDGSSVYYYGLDV', 'AELGDGSSVYYYGLDV', 'AELGDGSSVYYYGLDV', 'AELGDGSSVYYYGLDV', 'AELGDGSSVYYYGLDV', 'AELGDGSSVYYYGLDV', 'AELGDGSSVYYYGLDV']\n"
     ]
    },
    {
     "name": "stderr",
     "output_type": "stream",
     "text": [
      " 32%|███▏      | 6/19 [00:03<00:05,  2.42it/s]"
     ]
    },
    {
     "name": "stdout",
     "output_type": "stream",
     "text": [
      "['SGYTYDLAMDY', 'SGYTYDLAMDY', 'SGYTYDLAMDY', 'SGYTYDLAMDY', 'SGYTYDLAMDY', 'SGYTYDLAMDY', 'SGYTYDLAMDY', 'SGYTYDLAMDY', 'SGYTYDLAMDY', 'SGYTYDLAMDY']\n"
     ]
    },
    {
     "name": "stderr",
     "output_type": "stream",
     "text": [
      " 37%|███▋      | 7/19 [00:03<00:06,  1.95it/s]"
     ]
    },
    {
     "name": "stdout",
     "output_type": "stream",
     "text": [
      "['GYYIFDI', 'GYYIFDI', 'GYYIFDI', 'GYYIFDI', 'GYYIFDI', 'GYYIFDI', 'GYYIFDI', 'GYYIFDI', 'GYYIFDI', 'GYYIFDI']\n"
     ]
    },
    {
     "name": "stderr",
     "output_type": "stream",
     "text": [
      " 42%|████▏     | 8/19 [00:04<00:07,  1.41it/s]"
     ]
    },
    {
     "name": "stdout",
     "output_type": "stream",
     "text": [
      "['VVGTGMDV', 'VVGTGMDV', 'VVGTGMDV', 'VGGTGMDV', 'VGGTGMDV', 'VVGTGMDV', 'VVGTGMDV', 'VVGTGMDV', 'VVGTGMDV', 'VGGTGMDV']\n"
     ]
    },
    {
     "name": "stderr",
     "output_type": "stream",
     "text": [
      " 47%|████▋     | 9/19 [00:05<00:06,  1.50it/s]"
     ]
    },
    {
     "name": "stdout",
     "output_type": "stream",
     "text": [
      "['EGYYGYGGAAFDY', 'EGYYGYGGAAFDY', 'EGYYGYGGAAFDY', 'EGYYGYGGAAFDY', 'EGYYGYGGAAFDY', 'EGYYGYGGAAFDY', 'EGYYGYGGAAFDY', 'EGYYGYGGAAFDY', 'EGYYGYGGAAFDY', 'EGYYGYGGAAFDY']\n"
     ]
    },
    {
     "name": "stderr",
     "output_type": "stream",
     "text": [
      " 53%|█████▎    | 10/19 [00:05<00:05,  1.66it/s]"
     ]
    },
    {
     "name": "stdout",
     "output_type": "stream",
     "text": [
      "['DLVVYGMDV', 'DLVVYGMDV', 'DLQVYGMDV', 'DLVVYGMDV', 'DLVVYGMDV', 'DLVVYGMDV', 'DLVVYGMDV', 'DLQVYGMDV', 'DLVVYGMDV', 'DLVVYGMDV']\n"
     ]
    },
    {
     "name": "stderr",
     "output_type": "stream",
     "text": [
      " 58%|█████▊    | 11/19 [00:06<00:05,  1.54it/s]"
     ]
    },
    {
     "name": "stdout",
     "output_type": "stream",
     "text": [
      "['LWWLSGYFDI', 'LWWLSGYFDI', 'LWWLSGYFDI', 'LWWLSGYFDI', 'LWWLSGYFDI', 'LWWLSGYFDI', 'LWWLSGYFDI', 'LWWLSGYFDI', 'LWWLSGYFDI', 'LWWLSGYFDI']\n"
     ]
    },
    {
     "name": "stderr",
     "output_type": "stream",
     "text": [
      " 63%|██████▎   | 12/19 [00:07<00:05,  1.40it/s]"
     ]
    },
    {
     "name": "stdout",
     "output_type": "stream",
     "text": [
      "['AELGDGSSVYYYGLDV', 'AELGDGSSVYYYGLDV', 'AELGDGSSVYYYGLDV', 'AELGDGSSVYYYGLDV', 'AELGDGSSVYYYGLDV', 'AELGDGSSVYYYGLDV', 'AELGDGSSVYYYGLDV', 'AELGDGSSVYYYGLDV', 'AELGDGSSVYYYGLDV', 'AELGDGSSVYYYGLDV']\n"
     ]
    },
    {
     "name": "stderr",
     "output_type": "stream",
     "text": [
      " 68%|██████▊   | 13/19 [00:08<00:04,  1.48it/s]"
     ]
    },
    {
     "name": "stdout",
     "output_type": "stream",
     "text": [
      "['GGNTITGSGTSGLDV', 'GGNTITGSGTSGLDV', 'GGNTITGSGTSGLDV', 'GGNTITGSGTSGLDV', 'GGNTITGSGTSGLDV', 'GGNTITGSGTSGLDV', 'GGNTITGSGTSGLDV', 'GGNTITGSGTSGLDV', 'GGNTITGSGTSGLDV', 'GGNTITGSGTSGLDV']\n"
     ]
    },
    {
     "name": "stderr",
     "output_type": "stream",
     "text": [
      " 74%|███████▎  | 14/19 [00:08<00:02,  1.79it/s]"
     ]
    },
    {
     "name": "stdout",
     "output_type": "stream",
     "text": [
      "['DIGWRFDY', 'DIGWRFDY', 'DIGWRFDY', 'DIGWRFDY', 'DIGWRFDY', 'DIGWRFDY', 'DIGWRFDY', 'DIGWRFDY', 'DIGWRFDY', 'DIGWRFDY']\n"
     ]
    },
    {
     "name": "stderr",
     "output_type": "stream",
     "text": [
      " 79%|███████▉  | 15/19 [00:09<00:02,  1.73it/s]"
     ]
    },
    {
     "name": "stdout",
     "output_type": "stream",
     "text": [
      "['SGYTYDLAMDY', 'SGYTYDLAMDY', 'SGYTYDLAMDY', 'SGYTYDLAMDY', 'SGYTYDLAMDY', 'SGYTYDLAMDY', 'SGYTYDLAMDY', 'SGYTYDLAMDY', 'SGYTYDLAMDY', 'SGYTYDLAMDY']\n"
     ]
    },
    {
     "name": "stderr",
     "output_type": "stream",
     "text": [
      " 84%|████████▍ | 16/19 [00:09<00:01,  1.58it/s]"
     ]
    },
    {
     "name": "stdout",
     "output_type": "stream",
     "text": [
      "['EGTYGYAGAAFDY', 'EGTYGYAGAAFDY', 'EGTYGYAGAAFDY', 'EGTYGYAGAAFDY', 'EGTYGYAGAAFDY', 'EGTYGYAGAAFDY', 'EGTYGYAGAAFDY', 'EGTYGYAGAAFDY', 'EGTYGYAGAAFDY', 'EGTYGYAGAAFDY']\n"
     ]
    },
    {
     "name": "stderr",
     "output_type": "stream",
     "text": [
      " 89%|████████▉ | 17/19 [00:10<00:01,  1.90it/s]"
     ]
    },
    {
     "name": "stdout",
     "output_type": "stream",
     "text": [
      "['SYYTRDLAMDY', 'SYYTRDLAMDY', 'SYYTRDLAMDY', 'SYYTRDLAMDY', 'SYYTRDLAMDY', 'SYYTRDLAMDY', 'SYYTRDLAMDY', 'SYYTRDLAMDY', 'SYYTRDLAMDY', 'SYYTRDLAMDY']\n"
     ]
    },
    {
     "name": "stderr",
     "output_type": "stream",
     "text": [
      " 95%|█████████▍| 18/19 [00:10<00:00,  2.15it/s]"
     ]
    },
    {
     "name": "stdout",
     "output_type": "stream",
     "text": [
      "['DLAGGGGLDV', 'DLAGGGGLDV', 'DLAGGGGLDV', 'DLAGGGGLDV', 'DLAGGGGLDV', 'DLAGGGGLDV', 'DLAGGGGLDV', 'DLAGGGGLDV', 'DLAGGGGLDV', 'DLAGGGGLDV']\n"
     ]
    },
    {
     "name": "stderr",
     "output_type": "stream",
     "text": [
      "100%|██████████| 19/19 [00:10<00:00,  1.75it/s]"
     ]
    },
    {
     "name": "stdout",
     "output_type": "stream",
     "text": [
      "['DLAGYGGLDV', 'DLAGYGGLDV', 'DLAGYGGLDV', 'DLAGYGGLDV', 'DLAGYGGLDV', 'DLAGYGGLDV', 'DLAGYGGLDV', 'DLAGYGGLDV', 'DLAGYGGLDV', 'DLAGYGGLDV']\n"
     ]
    },
    {
     "name": "stderr",
     "output_type": "stream",
     "text": [
      "\n"
     ]
    },
    {
     "data": {
      "text/html": [
       "<div>\n",
       "<style scoped>\n",
       "    .dataframe tbody tr th:only-of-type {\n",
       "        vertical-align: middle;\n",
       "    }\n",
       "\n",
       "    .dataframe tbody tr th {\n",
       "        vertical-align: top;\n",
       "    }\n",
       "\n",
       "    .dataframe thead th {\n",
       "        text-align: right;\n",
       "    }\n",
       "</style>\n",
       "<table border=\"1\" class=\"dataframe\">\n",
       "  <thead>\n",
       "    <tr style=\"text-align: right;\">\n",
       "      <th></th>\n",
       "      <th>pdb</th>\n",
       "      <th>averaged_indentity</th>\n",
       "    </tr>\n",
       "  </thead>\n",
       "  <tbody>\n",
       "    <tr>\n",
       "      <th>0</th>\n",
       "      <td>4-5tlk_B_A_X</td>\n",
       "      <td>1.000000</td>\n",
       "    </tr>\n",
       "    <tr>\n",
       "      <th>1</th>\n",
       "      <td>7-5w9h_H_I_G</td>\n",
       "      <td>1.000000</td>\n",
       "    </tr>\n",
       "    <tr>\n",
       "      <th>2</th>\n",
       "      <td>10-7bwj_H_L_E</td>\n",
       "      <td>1.000000</td>\n",
       "    </tr>\n",
       "    <tr>\n",
       "      <th>3</th>\n",
       "      <td>18-5tlk_D_C_X</td>\n",
       "      <td>1.000000</td>\n",
       "    </tr>\n",
       "    <tr>\n",
       "      <th>4</th>\n",
       "      <td>17-7che_A_B_R</td>\n",
       "      <td>1.000000</td>\n",
       "    </tr>\n",
       "    <tr>\n",
       "      <th>5</th>\n",
       "      <td>8-5tlj_B_A_X</td>\n",
       "      <td>1.000000</td>\n",
       "    </tr>\n",
       "    <tr>\n",
       "      <th>6</th>\n",
       "      <td>13-8ds5_C_B_A</td>\n",
       "      <td>1.000000</td>\n",
       "    </tr>\n",
       "    <tr>\n",
       "      <th>7</th>\n",
       "      <td>5-5tlj_D_C_X</td>\n",
       "      <td>0.941667</td>\n",
       "    </tr>\n",
       "    <tr>\n",
       "      <th>8</th>\n",
       "      <td>12-5w9h_B_C_A</td>\n",
       "      <td>1.000000</td>\n",
       "    </tr>\n",
       "    <tr>\n",
       "      <th>9</th>\n",
       "      <td>2-7chf_H_L_R</td>\n",
       "      <td>0.960494</td>\n",
       "    </tr>\n",
       "    <tr>\n",
       "      <th>10</th>\n",
       "      <td>11-7d6i_B_C_A</td>\n",
       "      <td>1.000000</td>\n",
       "    </tr>\n",
       "    <tr>\n",
       "      <th>11</th>\n",
       "      <td>1-7chf_A_B_R</td>\n",
       "      <td>1.000000</td>\n",
       "    </tr>\n",
       "    <tr>\n",
       "      <th>12</th>\n",
       "      <td>0-5xku_C_B_A</td>\n",
       "      <td>1.000000</td>\n",
       "    </tr>\n",
       "    <tr>\n",
       "      <th>13</th>\n",
       "      <td>16-5tlk_H_G_Y</td>\n",
       "      <td>1.000000</td>\n",
       "    </tr>\n",
       "    <tr>\n",
       "      <th>14</th>\n",
       "      <td>6-5tlk_F_E_Y</td>\n",
       "      <td>1.000000</td>\n",
       "    </tr>\n",
       "    <tr>\n",
       "      <th>15</th>\n",
       "      <td>15-5w9h_E_F_D</td>\n",
       "      <td>1.000000</td>\n",
       "    </tr>\n",
       "    <tr>\n",
       "      <th>16</th>\n",
       "      <td>9-5tl5_H_L_A</td>\n",
       "      <td>1.000000</td>\n",
       "    </tr>\n",
       "    <tr>\n",
       "      <th>17</th>\n",
       "      <td>3-7che_H_L_R</td>\n",
       "      <td>1.000000</td>\n",
       "    </tr>\n",
       "    <tr>\n",
       "      <th>18</th>\n",
       "      <td>14-7chb_H_L_R</td>\n",
       "      <td>1.000000</td>\n",
       "    </tr>\n",
       "  </tbody>\n",
       "</table>\n",
       "</div>"
      ],
      "text/plain": [
       "              pdb  averaged_indentity\n",
       "0    4-5tlk_B_A_X            1.000000\n",
       "1    7-5w9h_H_I_G            1.000000\n",
       "2   10-7bwj_H_L_E            1.000000\n",
       "3   18-5tlk_D_C_X            1.000000\n",
       "4   17-7che_A_B_R            1.000000\n",
       "5    8-5tlj_B_A_X            1.000000\n",
       "6   13-8ds5_C_B_A            1.000000\n",
       "7    5-5tlj_D_C_X            0.941667\n",
       "8   12-5w9h_B_C_A            1.000000\n",
       "9    2-7chf_H_L_R            0.960494\n",
       "10  11-7d6i_B_C_A            1.000000\n",
       "11   1-7chf_A_B_R            1.000000\n",
       "12   0-5xku_C_B_A            1.000000\n",
       "13  16-5tlk_H_G_Y            1.000000\n",
       "14   6-5tlk_F_E_Y            1.000000\n",
       "15  15-5w9h_E_F_D            1.000000\n",
       "16   9-5tl5_H_L_A            1.000000\n",
       "17   3-7che_H_L_R            1.000000\n",
       "18  14-7chb_H_L_R            1.000000"
      ]
     },
     "execution_count": 5,
     "metadata": {},
     "output_type": "execute_result"
    }
   ],
   "source": [
    "import glob\n",
    "import tqdm\n",
    "import pandas as pd\n",
    "import json\n",
    "\n",
    "pdb_list = []\n",
    "diversity_list = []\n",
    "for directory in tqdm.tqdm(glob.glob('/hanchenchen/ab_opt/AbDesign/test_results/codesign_single/*/H_CDR3')):\n",
    "    metadata_path = directory.replace('H_CDR3', 'metadata.json')\n",
    "    metadata = json.load(open(metadata_path))\n",
    "    assert len(metadata['items']) == 1\n",
    "    chain_id = metadata['items'][0][\"residue_first\"][0]\n",
    "    start = metadata['items'][0][\"residue_first\"][1]\n",
    "    end = metadata['items'][0][\"residue_last\"][1]\n",
    "    diversity = pairwise_identity_matrix(directory, chain_id, start, end)\n",
    "    pdb_list.append(directory.split('/')[-2])\n",
    "    diversity_list.append(diversity)\n",
    "\n",
    "df = pd.DataFrame({'pdb': pdb_list, 'averaged_indentity': diversity_list})\n",
    "df"
   ]
  },
  {
   "cell_type": "code",
   "execution_count": 6,
   "metadata": {},
   "outputs": [],
   "source": [
    "df.to_csv('/hanchenchen/ab_opt/rebuttal_exps/2_diversity/results/averaged_upper_triangle_identity.csv', index=False)"
   ]
  }
 ],
 "metadata": {
  "kernelspec": {
   "display_name": "antibody_design",
   "language": "python",
   "name": "python3"
  },
  "language_info": {
   "codemirror_mode": {
    "name": "ipython",
    "version": 3
   },
   "file_extension": ".py",
   "mimetype": "text/x-python",
   "name": "python",
   "nbconvert_exporter": "python",
   "pygments_lexer": "ipython3",
   "version": "3.12.4"
  }
 },
 "nbformat": 4,
 "nbformat_minor": 2
}
