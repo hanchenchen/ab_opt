{
 "cells": [
  {
   "cell_type": "code",
   "execution_count": 15,
   "metadata": {},
   "outputs": [
    {
     "name": "stdout",
     "output_type": "stream",
     "text": [
      "Total Score: 10\n",
      "GT Score: 42\n",
      "Position Count: 8\n",
      "Recovery Rate: 0.23810\n"
     ]
    }
   ],
   "source": [
    "import Bio.PDB\n",
    "from Bio.SubsMat.MatrixInfo import blosum62\n",
    "\n",
    "def calculate_recovery_rate_w_blosum(pdb_file_1, pdb_file_ref, chain_id, start_pos, end_pos):\n",
    "    # Load the PDB structures\n",
    "    parser = Bio.PDB.PDBParser(QUIET=True)\n",
    "    structure_1 = parser.get_structure('structure_1', pdb_file_1)\n",
    "    structure_ref = parser.get_structure('structure_ref', pdb_file_ref)\n",
    "    \n",
    "    # Extract the specific chain from both structures\n",
    "    chain_1 = structure_1[0][chain_id]\n",
    "    chain_ref = structure_ref[0][chain_id]\n",
    "    \n",
    "    # Initialize variables for the score and count\n",
    "    total_score = 0\n",
    "    gt_score = 0\n",
    "    position_count = 0\n",
    "    \n",
    "    # Iterate through the specified residue positions\n",
    "    for pos in range(start_pos, end_pos + 1):\n",
    "        try:\n",
    "            residue_1 = chain_1[pos]\n",
    "            residue_ref = chain_ref[pos]\n",
    "            aa_1 = residue_1.get_resname()\n",
    "            aa_ref = residue_ref.get_resname()\n",
    "            \n",
    "            # Convert residue names to one-letter codes\n",
    "            aa_1 = Bio.PDB.Polypeptide.three_to_one(aa_1)\n",
    "            aa_ref = Bio.PDB.Polypeptide.three_to_one(aa_ref)\n",
    "            \n",
    "            # Calculate the BLOSUM score\n",
    "            pair = (aa_1, aa_ref)\n",
    "            if pair in blosum62:\n",
    "                score = blosum62[pair]\n",
    "            elif (aa_ref, aa_1) in blosum62:  # Check the reverse pair\n",
    "                score = blosum62[(aa_ref, aa_1)]\n",
    "            else:\n",
    "                score = 0  # No score available for this pair\n",
    "            \n",
    "            # Accumulate the score\n",
    "            total_score += score\n",
    "            gt_score += blosum62[(aa_ref, aa_ref)]\n",
    "            position_count += 1\n",
    "            \n",
    "        except KeyError:\n",
    "            # If the residue is not present in one of the structures, skip\n",
    "            continue\n",
    "    \n",
    "    # Calculate the recovery rate\n",
    "    if position_count == 0:\n",
    "        return 0  # To avoid division by zero\n",
    "    recovery_rate = total_score / gt_score\n",
    "    print(f\"Total Score: {total_score}\")\n",
    "    print(f\"GT Score: {gt_score}\")\n",
    "    print(f\"Position Count: {position_count}\")\n",
    "    return recovery_rate\n",
    "\n",
    "\n",
    "# Example usage\n",
    "folder = '/hanchenchen/ab_opt/AbDesign/test_results_20240725/codesign_single/0-5xku_C_B_A/H_CDR3'\n",
    "chain_id = 'C'\n",
    "start = 95\n",
    "end = 102\n",
    "\n",
    "recovery_rate = calculate_recovery_rate_w_blosum(\n",
    "    folder + '/0000.pdb', \n",
    "    folder + '/REF1.pdb', \n",
    "    chain_id, \n",
    "    start, \n",
    "    end,\n",
    "    )\n",
    "print(f\"Recovery Rate: {recovery_rate:.5f}\")\n",
    "\n"
   ]
  },
  {
   "cell_type": "code",
   "execution_count": 16,
   "metadata": {},
   "outputs": [
    {
     "name": "stdout",
     "output_type": "stream",
     "text": [
      "Total Score: 3\n",
      "GT Score: 8\n",
      "Position Count: 8\n",
      "Recovery Rate: 0.37500\n"
     ]
    }
   ],
   "source": [
    "import Bio.PDB\n",
    "from Bio.SubsMat.MatrixInfo import blosum62\n",
    "\n",
    "def calculate_recovery_rate(pdb_file_1, pdb_file_ref, chain_id, start_pos, end_pos):\n",
    "    # Load the PDB structures\n",
    "    parser = Bio.PDB.PDBParser(QUIET=True)\n",
    "    structure_1 = parser.get_structure('structure_1', pdb_file_1)\n",
    "    structure_ref = parser.get_structure('structure_ref', pdb_file_ref)\n",
    "    \n",
    "    # Extract the specific chain from both structures\n",
    "    chain_1 = structure_1[0][chain_id]\n",
    "    chain_ref = structure_ref[0][chain_id]\n",
    "    \n",
    "    # Initialize variables for the score and count\n",
    "    total_score = 0\n",
    "    gt_score = 0\n",
    "    position_count = 0\n",
    "    \n",
    "    # Iterate through the specified residue positions\n",
    "    for pos in range(start_pos, end_pos + 1):\n",
    "        try:\n",
    "            residue_1 = chain_1[pos]\n",
    "            residue_ref = chain_ref[pos]\n",
    "            aa_1 = residue_1.get_resname()\n",
    "            aa_ref = residue_ref.get_resname()\n",
    "            \n",
    "            # Convert residue names to one-letter codes\n",
    "            aa_1 = Bio.PDB.Polypeptide.three_to_one(aa_1)\n",
    "            aa_ref = Bio.PDB.Polypeptide.three_to_one(aa_ref)\n",
    "            \n",
    "            # Calculate the BLOSUM score\\\n",
    "            score = int(aa_1 == aa_ref)\n",
    "            # Accumulate the score\n",
    "            total_score += score\n",
    "            gt_score += 1\n",
    "            position_count += 1\n",
    "            \n",
    "        except KeyError:\n",
    "            # If the residue is not present in one of the structures, skip\n",
    "            continue\n",
    "    \n",
    "    # Calculate the recovery rate\n",
    "    if position_count == 0:\n",
    "        return 0  # To avoid division by zero\n",
    "    recovery_rate = total_score / gt_score\n",
    "    print(f\"Total Score: {total_score}\")\n",
    "    print(f\"GT Score: {gt_score}\")\n",
    "    print(f\"Position Count: {position_count}\")\n",
    "    return recovery_rate\n",
    "\n",
    "\n",
    "# Example usage\n",
    "folder = '/hanchenchen/ab_opt/AbDesign/test_results_20240725/codesign_single/0-5xku_C_B_A/H_CDR3'\n",
    "chain_id = 'C'\n",
    "start = 95\n",
    "end = 102\n",
    "\n",
    "recovery_rate = calculate_recovery_rate(\n",
    "    folder + '/0000.pdb', \n",
    "    folder + '/REF1.pdb', \n",
    "    chain_id, \n",
    "    start, \n",
    "    end,\n",
    "    )\n",
    "print(f\"Recovery Rate: {recovery_rate:.5f}\")\n",
    "\n"
   ]
  },
  {
   "cell_type": "code",
   "execution_count": 17,
   "metadata": {},
   "outputs": [
    {
     "name": "stderr",
     "output_type": "stream",
     "text": [
      "  5%|▌         | 1/19 [00:00<00:03,  4.96it/s]"
     ]
    },
    {
     "name": "stdout",
     "output_type": "stream",
     "text": [
      "Total Score: 4\n",
      "GT Score: 8\n",
      "Position Count: 8\n",
      "Total Score: 16\n",
      "GT Score: 47\n",
      "Position Count: 8\n"
     ]
    },
    {
     "name": "stderr",
     "output_type": "stream",
     "text": [
      " 11%|█         | 2/19 [00:00<00:05,  3.10it/s]"
     ]
    },
    {
     "name": "stdout",
     "output_type": "stream",
     "text": [
      "Total Score: 2\n",
      "GT Score: 8\n",
      "Position Count: 8\n",
      "Total Score: 3\n",
      "GT Score: 46\n",
      "Position Count: 8\n"
     ]
    },
    {
     "name": "stderr",
     "output_type": "stream",
     "text": [
      " 16%|█▌        | 3/19 [00:00<00:03,  4.39it/s]"
     ]
    },
    {
     "name": "stdout",
     "output_type": "stream",
     "text": [
      "Total Score: 2\n",
      "GT Score: 8\n",
      "Position Count: 8\n",
      "Total Score: 6\n",
      "GT Score: 36\n",
      "Position Count: 8\n"
     ]
    },
    {
     "name": "stderr",
     "output_type": "stream",
     "text": [
      " 21%|██        | 4/19 [00:01<00:03,  3.90it/s]"
     ]
    },
    {
     "name": "stdout",
     "output_type": "stream",
     "text": [
      "Total Score: 4\n",
      "GT Score: 8\n",
      "Position Count: 8\n",
      "Total Score: 15\n",
      "GT Score: 51\n",
      "Position Count: 8\n",
      "Total Score: 1\n",
      "GT Score: 8\n",
      "Position Count: 8\n"
     ]
    },
    {
     "name": "stderr",
     "output_type": "stream",
     "text": [
      " 26%|██▋       | 5/19 [00:01<00:03,  4.20it/s]"
     ]
    },
    {
     "name": "stdout",
     "output_type": "stream",
     "text": [
      "Total Score: -6\n",
      "GT Score: 44\n",
      "Position Count: 8\n"
     ]
    },
    {
     "name": "stderr",
     "output_type": "stream",
     "text": [
      " 32%|███▏      | 6/19 [00:02<00:06,  2.02it/s]"
     ]
    },
    {
     "name": "stdout",
     "output_type": "stream",
     "text": [
      "Total Score: 4\n",
      "GT Score: 8\n",
      "Position Count: 8\n",
      "Total Score: 16\n",
      "GT Score: 47\n",
      "Position Count: 8\n",
      "Total Score: 1\n",
      "GT Score: 7\n",
      "Position Count: 7\n",
      "Total Score: -4\n",
      "GT Score: 39\n",
      "Position Count: 7\n"
     ]
    },
    {
     "name": "stderr",
     "output_type": "stream",
     "text": [
      " 42%|████▏     | 8/19 [00:02<00:03,  2.94it/s]"
     ]
    },
    {
     "name": "stdout",
     "output_type": "stream",
     "text": [
      "Total Score: 2\n",
      "GT Score: 8\n",
      "Position Count: 8\n",
      "Total Score: 3\n",
      "GT Score: 51\n",
      "Position Count: 8\n",
      "Total Score: 4\n",
      "GT Score: 8\n",
      "Position Count: 8\n"
     ]
    },
    {
     "name": "stderr",
     "output_type": "stream",
     "text": [
      " 47%|████▋     | 9/19 [00:02<00:03,  3.16it/s]"
     ]
    },
    {
     "name": "stdout",
     "output_type": "stream",
     "text": [
      "Total Score: 22\n",
      "GT Score: 46\n",
      "Position Count: 8\n",
      "Total Score: 6\n",
      "GT Score: 8\n",
      "Position Count: 8\n"
     ]
    },
    {
     "name": "stderr",
     "output_type": "stream",
     "text": [
      " 58%|█████▊    | 11/19 [00:03<00:02,  3.73it/s]"
     ]
    },
    {
     "name": "stdout",
     "output_type": "stream",
     "text": [
      "Total Score: 28\n",
      "GT Score: 46\n",
      "Position Count: 8\n",
      "Total Score: 4\n",
      "GT Score: 8\n",
      "Position Count: 8\n",
      "Total Score: 24\n",
      "GT Score: 46\n",
      "Position Count: 8\n"
     ]
    },
    {
     "name": "stderr",
     "output_type": "stream",
     "text": [
      " 63%|██████▎   | 12/19 [00:03<00:02,  3.42it/s]"
     ]
    },
    {
     "name": "stdout",
     "output_type": "stream",
     "text": [
      "Total Score: 1\n",
      "GT Score: 8\n",
      "Position Count: 8\n",
      "Total Score: -6\n",
      "GT Score: 44\n",
      "Position Count: 8\n"
     ]
    },
    {
     "name": "stderr",
     "output_type": "stream",
     "text": [
      " 68%|██████▊   | 13/19 [00:04<00:02,  2.94it/s]"
     ]
    },
    {
     "name": "stdout",
     "output_type": "stream",
     "text": [
      "Total Score: 3\n",
      "GT Score: 8\n",
      "Position Count: 8\n",
      "Total Score: 10\n",
      "GT Score: 42\n",
      "Position Count: 8\n",
      "Total Score: 4\n",
      "GT Score: 8\n",
      "Position Count: 8\n"
     ]
    },
    {
     "name": "stderr",
     "output_type": "stream",
     "text": [
      " 79%|███████▉  | 15/19 [00:04<00:00,  4.27it/s]"
     ]
    },
    {
     "name": "stdout",
     "output_type": "stream",
     "text": [
      "Total Score: 15\n",
      "GT Score: 51\n",
      "Position Count: 8\n",
      "Total Score: 4\n",
      "GT Score: 8\n",
      "Position Count: 8\n",
      "Total Score: 16\n",
      "GT Score: 47\n",
      "Position Count: 8\n"
     ]
    },
    {
     "name": "stderr",
     "output_type": "stream",
     "text": [
      " 84%|████████▍ | 16/19 [00:04<00:00,  3.20it/s]"
     ]
    },
    {
     "name": "stdout",
     "output_type": "stream",
     "text": [
      "Total Score: 3\n",
      "GT Score: 8\n",
      "Position Count: 8\n",
      "Total Score: 13\n",
      "GT Score: 46\n",
      "Position Count: 8\n",
      "Total Score: 4\n",
      "GT Score: 8\n",
      "Position Count: 8\n",
      "Total Score: 15\n",
      "GT Score: 47\n",
      "Position Count: 8\n"
     ]
    },
    {
     "name": "stderr",
     "output_type": "stream",
     "text": [
      "100%|██████████| 19/19 [00:05<00:00,  3.54it/s]"
     ]
    },
    {
     "name": "stdout",
     "output_type": "stream",
     "text": [
      "Total Score: 5\n",
      "GT Score: 8\n",
      "Position Count: 8\n",
      "Total Score: 24\n",
      "GT Score: 41\n",
      "Position Count: 8\n",
      "Total Score: 5\n",
      "GT Score: 8\n",
      "Position Count: 8\n",
      "Total Score: 22\n",
      "GT Score: 41\n",
      "Position Count: 8\n"
     ]
    },
    {
     "name": "stderr",
     "output_type": "stream",
     "text": [
      "\n"
     ]
    },
    {
     "data": {
      "text/html": [
       "<div>\n",
       "<style scoped>\n",
       "    .dataframe tbody tr th:only-of-type {\n",
       "        vertical-align: middle;\n",
       "    }\n",
       "\n",
       "    .dataframe tbody tr th {\n",
       "        vertical-align: top;\n",
       "    }\n",
       "\n",
       "    .dataframe thead th {\n",
       "        text-align: right;\n",
       "    }\n",
       "</style>\n",
       "<table border=\"1\" class=\"dataframe\">\n",
       "  <thead>\n",
       "    <tr style=\"text-align: right;\">\n",
       "      <th></th>\n",
       "      <th>pdb</th>\n",
       "      <th>recovery_rate</th>\n",
       "      <th>recovery_rate_w_blosum</th>\n",
       "    </tr>\n",
       "  </thead>\n",
       "  <tbody>\n",
       "    <tr>\n",
       "      <th>0</th>\n",
       "      <td>4-5tlk_B_A_X</td>\n",
       "      <td>0.500000</td>\n",
       "      <td>0.340426</td>\n",
       "    </tr>\n",
       "    <tr>\n",
       "      <th>1</th>\n",
       "      <td>7-5w9h_H_I_G</td>\n",
       "      <td>0.250000</td>\n",
       "      <td>0.065217</td>\n",
       "    </tr>\n",
       "    <tr>\n",
       "      <th>2</th>\n",
       "      <td>10-7bwj_H_L_E</td>\n",
       "      <td>0.250000</td>\n",
       "      <td>0.166667</td>\n",
       "    </tr>\n",
       "    <tr>\n",
       "      <th>3</th>\n",
       "      <td>18-5tlk_D_C_X</td>\n",
       "      <td>0.500000</td>\n",
       "      <td>0.294118</td>\n",
       "    </tr>\n",
       "    <tr>\n",
       "      <th>4</th>\n",
       "      <td>17-7che_A_B_R</td>\n",
       "      <td>0.125000</td>\n",
       "      <td>-0.136364</td>\n",
       "    </tr>\n",
       "    <tr>\n",
       "      <th>5</th>\n",
       "      <td>8-5tlj_B_A_X</td>\n",
       "      <td>0.500000</td>\n",
       "      <td>0.340426</td>\n",
       "    </tr>\n",
       "    <tr>\n",
       "      <th>6</th>\n",
       "      <td>13-8ds5_C_B_A</td>\n",
       "      <td>0.142857</td>\n",
       "      <td>-0.102564</td>\n",
       "    </tr>\n",
       "    <tr>\n",
       "      <th>7</th>\n",
       "      <td>5-5tlj_D_C_X</td>\n",
       "      <td>0.250000</td>\n",
       "      <td>0.058824</td>\n",
       "    </tr>\n",
       "    <tr>\n",
       "      <th>8</th>\n",
       "      <td>12-5w9h_B_C_A</td>\n",
       "      <td>0.500000</td>\n",
       "      <td>0.478261</td>\n",
       "    </tr>\n",
       "    <tr>\n",
       "      <th>9</th>\n",
       "      <td>2-7chf_H_L_R</td>\n",
       "      <td>0.750000</td>\n",
       "      <td>0.608696</td>\n",
       "    </tr>\n",
       "    <tr>\n",
       "      <th>10</th>\n",
       "      <td>11-7d6i_B_C_A</td>\n",
       "      <td>0.500000</td>\n",
       "      <td>0.521739</td>\n",
       "    </tr>\n",
       "    <tr>\n",
       "      <th>11</th>\n",
       "      <td>1-7chf_A_B_R</td>\n",
       "      <td>0.125000</td>\n",
       "      <td>-0.136364</td>\n",
       "    </tr>\n",
       "    <tr>\n",
       "      <th>12</th>\n",
       "      <td>0-5xku_C_B_A</td>\n",
       "      <td>0.375000</td>\n",
       "      <td>0.238095</td>\n",
       "    </tr>\n",
       "    <tr>\n",
       "      <th>13</th>\n",
       "      <td>16-5tlk_H_G_Y</td>\n",
       "      <td>0.500000</td>\n",
       "      <td>0.294118</td>\n",
       "    </tr>\n",
       "    <tr>\n",
       "      <th>14</th>\n",
       "      <td>6-5tlk_F_E_Y</td>\n",
       "      <td>0.500000</td>\n",
       "      <td>0.340426</td>\n",
       "    </tr>\n",
       "    <tr>\n",
       "      <th>15</th>\n",
       "      <td>15-5w9h_E_F_D</td>\n",
       "      <td>0.375000</td>\n",
       "      <td>0.282609</td>\n",
       "    </tr>\n",
       "    <tr>\n",
       "      <th>16</th>\n",
       "      <td>9-5tl5_H_L_A</td>\n",
       "      <td>0.500000</td>\n",
       "      <td>0.319149</td>\n",
       "    </tr>\n",
       "    <tr>\n",
       "      <th>17</th>\n",
       "      <td>3-7che_H_L_R</td>\n",
       "      <td>0.625000</td>\n",
       "      <td>0.585366</td>\n",
       "    </tr>\n",
       "    <tr>\n",
       "      <th>18</th>\n",
       "      <td>14-7chb_H_L_R</td>\n",
       "      <td>0.625000</td>\n",
       "      <td>0.536585</td>\n",
       "    </tr>\n",
       "  </tbody>\n",
       "</table>\n",
       "</div>"
      ],
      "text/plain": [
       "              pdb  recovery_rate  recovery_rate_w_blosum\n",
       "0    4-5tlk_B_A_X       0.500000                0.340426\n",
       "1    7-5w9h_H_I_G       0.250000                0.065217\n",
       "2   10-7bwj_H_L_E       0.250000                0.166667\n",
       "3   18-5tlk_D_C_X       0.500000                0.294118\n",
       "4   17-7che_A_B_R       0.125000               -0.136364\n",
       "5    8-5tlj_B_A_X       0.500000                0.340426\n",
       "6   13-8ds5_C_B_A       0.142857               -0.102564\n",
       "7    5-5tlj_D_C_X       0.250000                0.058824\n",
       "8   12-5w9h_B_C_A       0.500000                0.478261\n",
       "9    2-7chf_H_L_R       0.750000                0.608696\n",
       "10  11-7d6i_B_C_A       0.500000                0.521739\n",
       "11   1-7chf_A_B_R       0.125000               -0.136364\n",
       "12   0-5xku_C_B_A       0.375000                0.238095\n",
       "13  16-5tlk_H_G_Y       0.500000                0.294118\n",
       "14   6-5tlk_F_E_Y       0.500000                0.340426\n",
       "15  15-5w9h_E_F_D       0.375000                0.282609\n",
       "16   9-5tl5_H_L_A       0.500000                0.319149\n",
       "17   3-7che_H_L_R       0.625000                0.585366\n",
       "18  14-7chb_H_L_R       0.625000                0.536585"
      ]
     },
     "execution_count": 17,
     "metadata": {},
     "output_type": "execute_result"
    }
   ],
   "source": [
    "import glob\n",
    "import tqdm\n",
    "import pandas as pd\n",
    "import json\n",
    "\n",
    "pdb_list = []\n",
    "recovery_rate_list = []\n",
    "recovery_rate_w_blosum_list = []\n",
    "for directory in tqdm.tqdm(glob.glob('/hanchenchen/ab_opt/AbDesign/test_results/codesign_single/*/H_CDR3')):\n",
    "    metadata_path = directory.replace('H_CDR3', 'metadata.json')\n",
    "    metadata = json.load(open(metadata_path))\n",
    "    assert len(metadata['items']) == 1\n",
    "    chain_id = metadata['items'][0][\"residue_first\"][0]\n",
    "    start = metadata['items'][0][\"residue_first\"][1]\n",
    "    end = metadata['items'][0][\"residue_last\"][1]\n",
    "    recovery_rate = calculate_recovery_rate(\n",
    "        directory + '/0000.pdb', \n",
    "        directory + '/REF1.pdb', \n",
    "        chain_id, \n",
    "        start, \n",
    "        end,\n",
    "        )\n",
    "    recovery_rate_w_blosum = calculate_recovery_rate_w_blosum(\n",
    "        directory + '/0000.pdb', \n",
    "        directory + '/REF1.pdb', \n",
    "        chain_id, \n",
    "        start, \n",
    "        end,\n",
    "        )\n",
    "    pdb_list.append(directory.split('/')[-2])\n",
    "    recovery_rate_list.append(recovery_rate)\n",
    "    recovery_rate_w_blosum_list.append(recovery_rate_w_blosum)\n",
    "\n",
    "df = pd.DataFrame({\n",
    "    'pdb': pdb_list, \n",
    "    'recovery_rate': recovery_rate_list,\n",
    "    'recovery_rate_w_blosum': recovery_rate_w_blosum_list,\n",
    "    })\n",
    "df"
   ]
  },
  {
   "cell_type": "code",
   "execution_count": 19,
   "metadata": {},
   "outputs": [
    {
     "ename": "TypeError",
     "evalue": "Could not convert ['4-5tlk_B_A_X7-5w9h_H_I_G10-7bwj_H_L_E18-5tlk_D_C_X17-7che_A_B_R8-5tlj_B_A_X13-8ds5_C_B_A5-5tlj_D_C_X12-5w9h_B_C_A2-7chf_H_L_R11-7d6i_B_C_A1-7chf_A_B_R0-5xku_C_B_A16-5tlk_H_G_Y6-5tlk_F_E_Y15-5w9h_E_F_D9-5tl5_H_L_A3-7che_H_L_R14-7chb_H_L_R'] to numeric",
     "output_type": "error",
     "traceback": [
      "\u001b[0;31m---------------------------------------------------------------------------\u001b[0m",
      "\u001b[0;31mTypeError\u001b[0m                                 Traceback (most recent call last)",
      "Cell \u001b[0;32mIn[19], line 1\u001b[0m\n\u001b[0;32m----> 1\u001b[0m \u001b[43mdf\u001b[49m\u001b[38;5;241;43m.\u001b[39;49m\u001b[43mmean\u001b[49m\u001b[43m(\u001b[49m\u001b[43m)\u001b[49m\n",
      "File \u001b[0;32m~/miniconda3/envs/antibody_design/lib/python3.12/site-packages/pandas/core/frame.py:11693\u001b[0m, in \u001b[0;36mDataFrame.mean\u001b[0;34m(self, axis, skipna, numeric_only, **kwargs)\u001b[0m\n\u001b[1;32m  11685\u001b[0m \u001b[38;5;129m@doc\u001b[39m(make_doc(\u001b[38;5;124m\"\u001b[39m\u001b[38;5;124mmean\u001b[39m\u001b[38;5;124m\"\u001b[39m, ndim\u001b[38;5;241m=\u001b[39m\u001b[38;5;241m2\u001b[39m))\n\u001b[1;32m  11686\u001b[0m \u001b[38;5;28;01mdef\u001b[39;00m \u001b[38;5;21mmean\u001b[39m(\n\u001b[1;32m  11687\u001b[0m     \u001b[38;5;28mself\u001b[39m,\n\u001b[0;32m   (...)\u001b[0m\n\u001b[1;32m  11691\u001b[0m     \u001b[38;5;241m*\u001b[39m\u001b[38;5;241m*\u001b[39mkwargs,\n\u001b[1;32m  11692\u001b[0m ):\n\u001b[0;32m> 11693\u001b[0m     result \u001b[38;5;241m=\u001b[39m \u001b[38;5;28;43msuper\u001b[39;49m\u001b[43m(\u001b[49m\u001b[43m)\u001b[49m\u001b[38;5;241;43m.\u001b[39;49m\u001b[43mmean\u001b[49m\u001b[43m(\u001b[49m\u001b[43maxis\u001b[49m\u001b[43m,\u001b[49m\u001b[43m \u001b[49m\u001b[43mskipna\u001b[49m\u001b[43m,\u001b[49m\u001b[43m \u001b[49m\u001b[43mnumeric_only\u001b[49m\u001b[43m,\u001b[49m\u001b[43m \u001b[49m\u001b[38;5;241;43m*\u001b[39;49m\u001b[38;5;241;43m*\u001b[39;49m\u001b[43mkwargs\u001b[49m\u001b[43m)\u001b[49m\n\u001b[1;32m  11694\u001b[0m     \u001b[38;5;28;01mif\u001b[39;00m \u001b[38;5;28misinstance\u001b[39m(result, Series):\n\u001b[1;32m  11695\u001b[0m         result \u001b[38;5;241m=\u001b[39m result\u001b[38;5;241m.\u001b[39m__finalize__(\u001b[38;5;28mself\u001b[39m, method\u001b[38;5;241m=\u001b[39m\u001b[38;5;124m\"\u001b[39m\u001b[38;5;124mmean\u001b[39m\u001b[38;5;124m\"\u001b[39m)\n",
      "File \u001b[0;32m~/miniconda3/envs/antibody_design/lib/python3.12/site-packages/pandas/core/generic.py:12420\u001b[0m, in \u001b[0;36mNDFrame.mean\u001b[0;34m(self, axis, skipna, numeric_only, **kwargs)\u001b[0m\n\u001b[1;32m  12413\u001b[0m \u001b[38;5;28;01mdef\u001b[39;00m \u001b[38;5;21mmean\u001b[39m(\n\u001b[1;32m  12414\u001b[0m     \u001b[38;5;28mself\u001b[39m,\n\u001b[1;32m  12415\u001b[0m     axis: Axis \u001b[38;5;241m|\u001b[39m \u001b[38;5;28;01mNone\u001b[39;00m \u001b[38;5;241m=\u001b[39m \u001b[38;5;241m0\u001b[39m,\n\u001b[0;32m   (...)\u001b[0m\n\u001b[1;32m  12418\u001b[0m     \u001b[38;5;241m*\u001b[39m\u001b[38;5;241m*\u001b[39mkwargs,\n\u001b[1;32m  12419\u001b[0m ) \u001b[38;5;241m-\u001b[39m\u001b[38;5;241m>\u001b[39m Series \u001b[38;5;241m|\u001b[39m \u001b[38;5;28mfloat\u001b[39m:\n\u001b[0;32m> 12420\u001b[0m     \u001b[38;5;28;01mreturn\u001b[39;00m \u001b[38;5;28;43mself\u001b[39;49m\u001b[38;5;241;43m.\u001b[39;49m\u001b[43m_stat_function\u001b[49m\u001b[43m(\u001b[49m\n\u001b[1;32m  12421\u001b[0m \u001b[43m        \u001b[49m\u001b[38;5;124;43m\"\u001b[39;49m\u001b[38;5;124;43mmean\u001b[39;49m\u001b[38;5;124;43m\"\u001b[39;49m\u001b[43m,\u001b[49m\u001b[43m \u001b[49m\u001b[43mnanops\u001b[49m\u001b[38;5;241;43m.\u001b[39;49m\u001b[43mnanmean\u001b[49m\u001b[43m,\u001b[49m\u001b[43m \u001b[49m\u001b[43maxis\u001b[49m\u001b[43m,\u001b[49m\u001b[43m \u001b[49m\u001b[43mskipna\u001b[49m\u001b[43m,\u001b[49m\u001b[43m \u001b[49m\u001b[43mnumeric_only\u001b[49m\u001b[43m,\u001b[49m\u001b[43m \u001b[49m\u001b[38;5;241;43m*\u001b[39;49m\u001b[38;5;241;43m*\u001b[39;49m\u001b[43mkwargs\u001b[49m\n\u001b[1;32m  12422\u001b[0m \u001b[43m    \u001b[49m\u001b[43m)\u001b[49m\n",
      "File \u001b[0;32m~/miniconda3/envs/antibody_design/lib/python3.12/site-packages/pandas/core/generic.py:12377\u001b[0m, in \u001b[0;36mNDFrame._stat_function\u001b[0;34m(self, name, func, axis, skipna, numeric_only, **kwargs)\u001b[0m\n\u001b[1;32m  12373\u001b[0m nv\u001b[38;5;241m.\u001b[39mvalidate_func(name, (), kwargs)\n\u001b[1;32m  12375\u001b[0m validate_bool_kwarg(skipna, \u001b[38;5;124m\"\u001b[39m\u001b[38;5;124mskipna\u001b[39m\u001b[38;5;124m\"\u001b[39m, none_allowed\u001b[38;5;241m=\u001b[39m\u001b[38;5;28;01mFalse\u001b[39;00m)\n\u001b[0;32m> 12377\u001b[0m \u001b[38;5;28;01mreturn\u001b[39;00m \u001b[38;5;28;43mself\u001b[39;49m\u001b[38;5;241;43m.\u001b[39;49m\u001b[43m_reduce\u001b[49m\u001b[43m(\u001b[49m\n\u001b[1;32m  12378\u001b[0m \u001b[43m    \u001b[49m\u001b[43mfunc\u001b[49m\u001b[43m,\u001b[49m\u001b[43m \u001b[49m\u001b[43mname\u001b[49m\u001b[38;5;241;43m=\u001b[39;49m\u001b[43mname\u001b[49m\u001b[43m,\u001b[49m\u001b[43m \u001b[49m\u001b[43maxis\u001b[49m\u001b[38;5;241;43m=\u001b[39;49m\u001b[43maxis\u001b[49m\u001b[43m,\u001b[49m\u001b[43m \u001b[49m\u001b[43mskipna\u001b[49m\u001b[38;5;241;43m=\u001b[39;49m\u001b[43mskipna\u001b[49m\u001b[43m,\u001b[49m\u001b[43m \u001b[49m\u001b[43mnumeric_only\u001b[49m\u001b[38;5;241;43m=\u001b[39;49m\u001b[43mnumeric_only\u001b[49m\n\u001b[1;32m  12379\u001b[0m \u001b[43m\u001b[49m\u001b[43m)\u001b[49m\n",
      "File \u001b[0;32m~/miniconda3/envs/antibody_design/lib/python3.12/site-packages/pandas/core/frame.py:11562\u001b[0m, in \u001b[0;36mDataFrame._reduce\u001b[0;34m(self, op, name, axis, skipna, numeric_only, filter_type, **kwds)\u001b[0m\n\u001b[1;32m  11558\u001b[0m     df \u001b[38;5;241m=\u001b[39m df\u001b[38;5;241m.\u001b[39mT\n\u001b[1;32m  11560\u001b[0m \u001b[38;5;66;03m# After possibly _get_data and transposing, we are now in the\u001b[39;00m\n\u001b[1;32m  11561\u001b[0m \u001b[38;5;66;03m#  simple case where we can use BlockManager.reduce\u001b[39;00m\n\u001b[0;32m> 11562\u001b[0m res \u001b[38;5;241m=\u001b[39m \u001b[43mdf\u001b[49m\u001b[38;5;241;43m.\u001b[39;49m\u001b[43m_mgr\u001b[49m\u001b[38;5;241;43m.\u001b[39;49m\u001b[43mreduce\u001b[49m\u001b[43m(\u001b[49m\u001b[43mblk_func\u001b[49m\u001b[43m)\u001b[49m\n\u001b[1;32m  11563\u001b[0m out \u001b[38;5;241m=\u001b[39m df\u001b[38;5;241m.\u001b[39m_constructor_from_mgr(res, axes\u001b[38;5;241m=\u001b[39mres\u001b[38;5;241m.\u001b[39maxes)\u001b[38;5;241m.\u001b[39miloc[\u001b[38;5;241m0\u001b[39m]\n\u001b[1;32m  11564\u001b[0m \u001b[38;5;28;01mif\u001b[39;00m out_dtype \u001b[38;5;129;01mis\u001b[39;00m \u001b[38;5;129;01mnot\u001b[39;00m \u001b[38;5;28;01mNone\u001b[39;00m \u001b[38;5;129;01mand\u001b[39;00m out\u001b[38;5;241m.\u001b[39mdtype \u001b[38;5;241m!=\u001b[39m \u001b[38;5;124m\"\u001b[39m\u001b[38;5;124mboolean\u001b[39m\u001b[38;5;124m\"\u001b[39m:\n",
      "File \u001b[0;32m~/miniconda3/envs/antibody_design/lib/python3.12/site-packages/pandas/core/internals/managers.py:1500\u001b[0m, in \u001b[0;36mBlockManager.reduce\u001b[0;34m(self, func)\u001b[0m\n\u001b[1;32m   1498\u001b[0m res_blocks: \u001b[38;5;28mlist\u001b[39m[Block] \u001b[38;5;241m=\u001b[39m []\n\u001b[1;32m   1499\u001b[0m \u001b[38;5;28;01mfor\u001b[39;00m blk \u001b[38;5;129;01min\u001b[39;00m \u001b[38;5;28mself\u001b[39m\u001b[38;5;241m.\u001b[39mblocks:\n\u001b[0;32m-> 1500\u001b[0m     nbs \u001b[38;5;241m=\u001b[39m \u001b[43mblk\u001b[49m\u001b[38;5;241;43m.\u001b[39;49m\u001b[43mreduce\u001b[49m\u001b[43m(\u001b[49m\u001b[43mfunc\u001b[49m\u001b[43m)\u001b[49m\n\u001b[1;32m   1501\u001b[0m     res_blocks\u001b[38;5;241m.\u001b[39mextend(nbs)\n\u001b[1;32m   1503\u001b[0m index \u001b[38;5;241m=\u001b[39m Index([\u001b[38;5;28;01mNone\u001b[39;00m])  \u001b[38;5;66;03m# placeholder\u001b[39;00m\n",
      "File \u001b[0;32m~/miniconda3/envs/antibody_design/lib/python3.12/site-packages/pandas/core/internals/blocks.py:404\u001b[0m, in \u001b[0;36mBlock.reduce\u001b[0;34m(self, func)\u001b[0m\n\u001b[1;32m    398\u001b[0m \u001b[38;5;129m@final\u001b[39m\n\u001b[1;32m    399\u001b[0m \u001b[38;5;28;01mdef\u001b[39;00m \u001b[38;5;21mreduce\u001b[39m(\u001b[38;5;28mself\u001b[39m, func) \u001b[38;5;241m-\u001b[39m\u001b[38;5;241m>\u001b[39m \u001b[38;5;28mlist\u001b[39m[Block]:\n\u001b[1;32m    400\u001b[0m     \u001b[38;5;66;03m# We will apply the function and reshape the result into a single-row\u001b[39;00m\n\u001b[1;32m    401\u001b[0m     \u001b[38;5;66;03m#  Block with the same mgr_locs; squeezing will be done at a higher level\u001b[39;00m\n\u001b[1;32m    402\u001b[0m     \u001b[38;5;28;01massert\u001b[39;00m \u001b[38;5;28mself\u001b[39m\u001b[38;5;241m.\u001b[39mndim \u001b[38;5;241m==\u001b[39m \u001b[38;5;241m2\u001b[39m\n\u001b[0;32m--> 404\u001b[0m     result \u001b[38;5;241m=\u001b[39m \u001b[43mfunc\u001b[49m\u001b[43m(\u001b[49m\u001b[38;5;28;43mself\u001b[39;49m\u001b[38;5;241;43m.\u001b[39;49m\u001b[43mvalues\u001b[49m\u001b[43m)\u001b[49m\n\u001b[1;32m    406\u001b[0m     \u001b[38;5;28;01mif\u001b[39;00m \u001b[38;5;28mself\u001b[39m\u001b[38;5;241m.\u001b[39mvalues\u001b[38;5;241m.\u001b[39mndim \u001b[38;5;241m==\u001b[39m \u001b[38;5;241m1\u001b[39m:\n\u001b[1;32m    407\u001b[0m         res_values \u001b[38;5;241m=\u001b[39m result\n",
      "File \u001b[0;32m~/miniconda3/envs/antibody_design/lib/python3.12/site-packages/pandas/core/frame.py:11481\u001b[0m, in \u001b[0;36mDataFrame._reduce.<locals>.blk_func\u001b[0;34m(values, axis)\u001b[0m\n\u001b[1;32m  11479\u001b[0m         \u001b[38;5;28;01mreturn\u001b[39;00m np\u001b[38;5;241m.\u001b[39marray([result])\n\u001b[1;32m  11480\u001b[0m \u001b[38;5;28;01melse\u001b[39;00m:\n\u001b[0;32m> 11481\u001b[0m     \u001b[38;5;28;01mreturn\u001b[39;00m \u001b[43mop\u001b[49m\u001b[43m(\u001b[49m\u001b[43mvalues\u001b[49m\u001b[43m,\u001b[49m\u001b[43m \u001b[49m\u001b[43maxis\u001b[49m\u001b[38;5;241;43m=\u001b[39;49m\u001b[43maxis\u001b[49m\u001b[43m,\u001b[49m\u001b[43m \u001b[49m\u001b[43mskipna\u001b[49m\u001b[38;5;241;43m=\u001b[39;49m\u001b[43mskipna\u001b[49m\u001b[43m,\u001b[49m\u001b[43m \u001b[49m\u001b[38;5;241;43m*\u001b[39;49m\u001b[38;5;241;43m*\u001b[39;49m\u001b[43mkwds\u001b[49m\u001b[43m)\u001b[49m\n",
      "File \u001b[0;32m~/miniconda3/envs/antibody_design/lib/python3.12/site-packages/pandas/core/nanops.py:147\u001b[0m, in \u001b[0;36mbottleneck_switch.__call__.<locals>.f\u001b[0;34m(values, axis, skipna, **kwds)\u001b[0m\n\u001b[1;32m    145\u001b[0m         result \u001b[38;5;241m=\u001b[39m alt(values, axis\u001b[38;5;241m=\u001b[39maxis, skipna\u001b[38;5;241m=\u001b[39mskipna, \u001b[38;5;241m*\u001b[39m\u001b[38;5;241m*\u001b[39mkwds)\n\u001b[1;32m    146\u001b[0m \u001b[38;5;28;01melse\u001b[39;00m:\n\u001b[0;32m--> 147\u001b[0m     result \u001b[38;5;241m=\u001b[39m \u001b[43malt\u001b[49m\u001b[43m(\u001b[49m\u001b[43mvalues\u001b[49m\u001b[43m,\u001b[49m\u001b[43m \u001b[49m\u001b[43maxis\u001b[49m\u001b[38;5;241;43m=\u001b[39;49m\u001b[43maxis\u001b[49m\u001b[43m,\u001b[49m\u001b[43m \u001b[49m\u001b[43mskipna\u001b[49m\u001b[38;5;241;43m=\u001b[39;49m\u001b[43mskipna\u001b[49m\u001b[43m,\u001b[49m\u001b[43m \u001b[49m\u001b[38;5;241;43m*\u001b[39;49m\u001b[38;5;241;43m*\u001b[39;49m\u001b[43mkwds\u001b[49m\u001b[43m)\u001b[49m\n\u001b[1;32m    149\u001b[0m \u001b[38;5;28;01mreturn\u001b[39;00m result\n",
      "File \u001b[0;32m~/miniconda3/envs/antibody_design/lib/python3.12/site-packages/pandas/core/nanops.py:404\u001b[0m, in \u001b[0;36m_datetimelike_compat.<locals>.new_func\u001b[0;34m(values, axis, skipna, mask, **kwargs)\u001b[0m\n\u001b[1;32m    401\u001b[0m \u001b[38;5;28;01mif\u001b[39;00m datetimelike \u001b[38;5;129;01mand\u001b[39;00m mask \u001b[38;5;129;01mis\u001b[39;00m \u001b[38;5;28;01mNone\u001b[39;00m:\n\u001b[1;32m    402\u001b[0m     mask \u001b[38;5;241m=\u001b[39m isna(values)\n\u001b[0;32m--> 404\u001b[0m result \u001b[38;5;241m=\u001b[39m \u001b[43mfunc\u001b[49m\u001b[43m(\u001b[49m\u001b[43mvalues\u001b[49m\u001b[43m,\u001b[49m\u001b[43m \u001b[49m\u001b[43maxis\u001b[49m\u001b[38;5;241;43m=\u001b[39;49m\u001b[43maxis\u001b[49m\u001b[43m,\u001b[49m\u001b[43m \u001b[49m\u001b[43mskipna\u001b[49m\u001b[38;5;241;43m=\u001b[39;49m\u001b[43mskipna\u001b[49m\u001b[43m,\u001b[49m\u001b[43m \u001b[49m\u001b[43mmask\u001b[49m\u001b[38;5;241;43m=\u001b[39;49m\u001b[43mmask\u001b[49m\u001b[43m,\u001b[49m\u001b[43m \u001b[49m\u001b[38;5;241;43m*\u001b[39;49m\u001b[38;5;241;43m*\u001b[39;49m\u001b[43mkwargs\u001b[49m\u001b[43m)\u001b[49m\n\u001b[1;32m    406\u001b[0m \u001b[38;5;28;01mif\u001b[39;00m datetimelike:\n\u001b[1;32m    407\u001b[0m     result \u001b[38;5;241m=\u001b[39m _wrap_results(result, orig_values\u001b[38;5;241m.\u001b[39mdtype, fill_value\u001b[38;5;241m=\u001b[39miNaT)\n",
      "File \u001b[0;32m~/miniconda3/envs/antibody_design/lib/python3.12/site-packages/pandas/core/nanops.py:720\u001b[0m, in \u001b[0;36mnanmean\u001b[0;34m(values, axis, skipna, mask)\u001b[0m\n\u001b[1;32m    718\u001b[0m count \u001b[38;5;241m=\u001b[39m _get_counts(values\u001b[38;5;241m.\u001b[39mshape, mask, axis, dtype\u001b[38;5;241m=\u001b[39mdtype_count)\n\u001b[1;32m    719\u001b[0m the_sum \u001b[38;5;241m=\u001b[39m values\u001b[38;5;241m.\u001b[39msum(axis, dtype\u001b[38;5;241m=\u001b[39mdtype_sum)\n\u001b[0;32m--> 720\u001b[0m the_sum \u001b[38;5;241m=\u001b[39m \u001b[43m_ensure_numeric\u001b[49m\u001b[43m(\u001b[49m\u001b[43mthe_sum\u001b[49m\u001b[43m)\u001b[49m\n\u001b[1;32m    722\u001b[0m \u001b[38;5;28;01mif\u001b[39;00m axis \u001b[38;5;129;01mis\u001b[39;00m \u001b[38;5;129;01mnot\u001b[39;00m \u001b[38;5;28;01mNone\u001b[39;00m \u001b[38;5;129;01mand\u001b[39;00m \u001b[38;5;28mgetattr\u001b[39m(the_sum, \u001b[38;5;124m\"\u001b[39m\u001b[38;5;124mndim\u001b[39m\u001b[38;5;124m\"\u001b[39m, \u001b[38;5;28;01mFalse\u001b[39;00m):\n\u001b[1;32m    723\u001b[0m     count \u001b[38;5;241m=\u001b[39m cast(np\u001b[38;5;241m.\u001b[39mndarray, count)\n",
      "File \u001b[0;32m~/miniconda3/envs/antibody_design/lib/python3.12/site-packages/pandas/core/nanops.py:1686\u001b[0m, in \u001b[0;36m_ensure_numeric\u001b[0;34m(x)\u001b[0m\n\u001b[1;32m   1683\u001b[0m inferred \u001b[38;5;241m=\u001b[39m lib\u001b[38;5;241m.\u001b[39minfer_dtype(x)\n\u001b[1;32m   1684\u001b[0m \u001b[38;5;28;01mif\u001b[39;00m inferred \u001b[38;5;129;01min\u001b[39;00m [\u001b[38;5;124m\"\u001b[39m\u001b[38;5;124mstring\u001b[39m\u001b[38;5;124m\"\u001b[39m, \u001b[38;5;124m\"\u001b[39m\u001b[38;5;124mmixed\u001b[39m\u001b[38;5;124m\"\u001b[39m]:\n\u001b[1;32m   1685\u001b[0m     \u001b[38;5;66;03m# GH#44008, GH#36703 avoid casting e.g. strings to numeric\u001b[39;00m\n\u001b[0;32m-> 1686\u001b[0m     \u001b[38;5;28;01mraise\u001b[39;00m \u001b[38;5;167;01mTypeError\u001b[39;00m(\u001b[38;5;124mf\u001b[39m\u001b[38;5;124m\"\u001b[39m\u001b[38;5;124mCould not convert \u001b[39m\u001b[38;5;132;01m{\u001b[39;00mx\u001b[38;5;132;01m}\u001b[39;00m\u001b[38;5;124m to numeric\u001b[39m\u001b[38;5;124m\"\u001b[39m)\n\u001b[1;32m   1687\u001b[0m \u001b[38;5;28;01mtry\u001b[39;00m:\n\u001b[1;32m   1688\u001b[0m     x \u001b[38;5;241m=\u001b[39m x\u001b[38;5;241m.\u001b[39mastype(np\u001b[38;5;241m.\u001b[39mcomplex128)\n",
      "\u001b[0;31mTypeError\u001b[0m: Could not convert ['4-5tlk_B_A_X7-5w9h_H_I_G10-7bwj_H_L_E18-5tlk_D_C_X17-7che_A_B_R8-5tlj_B_A_X13-8ds5_C_B_A5-5tlj_D_C_X12-5w9h_B_C_A2-7chf_H_L_R11-7d6i_B_C_A1-7chf_A_B_R0-5xku_C_B_A16-5tlk_H_G_Y6-5tlk_F_E_Y15-5w9h_E_F_D9-5tl5_H_L_A3-7che_H_L_R14-7chb_H_L_R'] to numeric"
     ]
    }
   ],
   "source": [
    "df[['recovery_rate', 'recovery_rate_w_blosum']].mean()"
   ]
  },
  {
   "cell_type": "code",
   "execution_count": 18,
   "metadata": {},
   "outputs": [],
   "source": [
    "df.to_csv('/hanchenchen/ab_opt/rebuttal_exps/6_recovery_rate_w_blosum/recovery_rate_w_blosum.csv', index=False)"
   ]
  }
 ],
 "metadata": {
  "kernelspec": {
   "display_name": "antibody_design",
   "language": "python",
   "name": "python3"
  },
  "language_info": {
   "codemirror_mode": {
    "name": "ipython",
    "version": 3
   },
   "file_extension": ".py",
   "mimetype": "text/x-python",
   "name": "python",
   "nbconvert_exporter": "python",
   "pygments_lexer": "ipython3",
   "version": "3.12.4"
  }
 },
 "nbformat": 4,
 "nbformat_minor": 2
}
